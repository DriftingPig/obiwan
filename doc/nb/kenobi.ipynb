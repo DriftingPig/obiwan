{
 "cells": [
  {
   "cell_type": "markdown",
   "metadata": {},
   "source": [
    "Run: python obiwan/kenobi.py -n 2 --DR 5 -b 1238p245 -o elg --add_sim_noise --zoom 1550 1650 1550 1650"
   ]
  },
  {
   "cell_type": "code",
   "execution_count": 1,
   "metadata": {
    "collapsed": true
   },
   "outputs": [],
   "source": [
    "%matplotlib inline\n",
    "%load_ext autoreload\n",
    "%autoreload 2"
   ]
  },
  {
   "cell_type": "code",
   "execution_count": 2,
   "metadata": {
    "collapsed": false
   },
   "outputs": [
    {
     "ename": "NameError",
     "evalue": "name 'kwargs' is not defined",
     "output_type": "error",
     "traceback": [
      "\u001b[0;31m\u001b[0m",
      "\u001b[0;31mNameError\u001b[0mTraceback (most recent call last)",
      "\u001b[0;32m<ipython-input-2-3aae4f201044>\u001b[0m in \u001b[0;36m<module>\u001b[0;34m()\u001b[0m\n\u001b[1;32m     30\u001b[0m \u001b[0;32mfrom\u001b[0m \u001b[0mlegacypipe\u001b[0m\u001b[0;34m.\u001b[0m\u001b[0msurvey\u001b[0m \u001b[0;32mimport\u001b[0m \u001b[0mLegacySurveyData\u001b[0m\u001b[0;34m,\u001b[0m \u001b[0mwcs_for_brick\u001b[0m\u001b[0;34m\u001b[0m\u001b[0m\n\u001b[1;32m     31\u001b[0m \u001b[0;34m\u001b[0m\u001b[0m\n\u001b[0;32m---> 32\u001b[0;31m \u001b[0;32mimport\u001b[0m \u001b[0mobiwan\u001b[0m\u001b[0;34m.\u001b[0m\u001b[0mpriors\u001b[0m \u001b[0;32mas\u001b[0m \u001b[0mpriors\u001b[0m\u001b[0;34m\u001b[0m\u001b[0m\n\u001b[0m\u001b[1;32m     33\u001b[0m \u001b[0;32mfrom\u001b[0m \u001b[0mobiwan\u001b[0m\u001b[0;34m.\u001b[0m\u001b[0mdb_tools\u001b[0m \u001b[0;32mimport\u001b[0m \u001b[0mgetSrcsInBrick\u001b[0m\u001b[0;34m\u001b[0m\u001b[0m\n\u001b[1;32m     34\u001b[0m \u001b[0;34m\u001b[0m\u001b[0m\n",
      "\u001b[0;32m/global/cscratch1/sd/kaylanb/test/obiwan/py/obiwan/priors.py\u001b[0m in \u001b[0;36m<module>\u001b[0;34m()\u001b[0m\n\u001b[1;32m    651\u001b[0m \u001b[0;31m#DR=2,savefig=False,alpha=1.,\\\u001b[0m\u001b[0;34m\u001b[0m\u001b[0;34m\u001b[0m\u001b[0m\n\u001b[1;32m    652\u001b[0m \u001b[0;31m#brick_primary=True,anymask=False,allmask=False,fracflux=False):\u001b[0m\u001b[0;34m\u001b[0m\u001b[0;34m\u001b[0m\u001b[0m\n\u001b[0;32m--> 653\u001b[0;31m \u001b[0;32mclass\u001b[0m \u001b[0mCommonInit\u001b[0m\u001b[0;34m(\u001b[0m\u001b[0mReadWrite\u001b[0m\u001b[0;34m)\u001b[0m\u001b[0;34m:\u001b[0m\u001b[0;34m\u001b[0m\u001b[0m\n\u001b[0m\u001b[1;32m    654\u001b[0m \t\"\"\"Base class for every STAR,ELG,LRG,QSO class\n\u001b[1;32m    655\u001b[0m \u001b[0;34m\u001b[0m\u001b[0m\n",
      "\u001b[0;32m/global/cscratch1/sd/kaylanb/test/obiwan/py/obiwan/priors.py\u001b[0m in \u001b[0;36mCommonInit\u001b[0;34m()\u001b[0m\n\u001b[1;32m    687\u001b[0m                 \u001b[0mself\u001b[0m\u001b[0;34m.\u001b[0m\u001b[0moutdir\u001b[0m\u001b[0;34m=\u001b[0m \u001b[0mkwargs\u001b[0m\u001b[0;34m.\u001b[0m\u001b[0mget\u001b[0m\u001b[0;34m(\u001b[0m\u001b[0;34m'outdir'\u001b[0m\u001b[0;34m,\u001b[0m\u001b[0;34m'./'\u001b[0m\u001b[0;34m)\u001b[0m\u001b[0;34m\u001b[0m\u001b[0m\n\u001b[1;32m    688\u001b[0m         \u001b[0;31m# Running from jupyter notebook?\u001b[0m\u001b[0;34m\u001b[0m\u001b[0;34m\u001b[0m\u001b[0m\n\u001b[0;32m--> 689\u001b[0;31m         \u001b[0mself\u001b[0m\u001b[0;34m.\u001b[0m\u001b[0mnb\u001b[0m\u001b[0;34m=\u001b[0m \u001b[0mkwargs\u001b[0m\u001b[0;34m.\u001b[0m\u001b[0mget\u001b[0m\u001b[0;34m(\u001b[0m\u001b[0;34m'nb'\u001b[0m\u001b[0;34m,\u001b[0m\u001b[0mFalse\u001b[0m\u001b[0;34m)\u001b[0m\u001b[0;34m\u001b[0m\u001b[0m\n\u001b[0m\u001b[1;32m    690\u001b[0m \u001b[0;34m\u001b[0m\u001b[0m\n\u001b[1;32m    691\u001b[0m         \u001b[0;32mdef\u001b[0m \u001b[0mimaging_cut\u001b[0m\u001b[0;34m(\u001b[0m\u001b[0mself\u001b[0m\u001b[0;34m,\u001b[0m\u001b[0mdata\u001b[0m\u001b[0;34m)\u001b[0m\u001b[0;34m:\u001b[0m\u001b[0;34m\u001b[0m\u001b[0m\n",
      "\u001b[0;31mNameError\u001b[0m: name 'kwargs' is not defined"
     ]
    }
   ],
   "source": [
    "import h5py\n",
    "import galsim\n",
    "import os\n",
    "import sys\n",
    "import shutil\n",
    "import logging\n",
    "import pdb\n",
    "import photutils\n",
    "\n",
    "import numpy as np\n",
    "import matplotlib.pyplot as plt\n",
    "from pkg_resources import resource_filename\n",
    "from pickle import dump\n",
    "\n",
    "\n",
    "from astropy.table import Table, Column, vstack\n",
    "from astropy.io import fits\n",
    "#from astropy import wcs as astropy_wcs\n",
    "from fitsio import FITSHDR\n",
    "import fitsio\n",
    "\n",
    "from astropy import units\n",
    "from astropy.coordinates import SkyCoord\n",
    "\n",
    "from tractor.psfex import PsfEx, PsfExModel\n",
    "from tractor.basics import GaussianMixtureEllipsePSF, RaDecPos\n",
    "\n",
    "from legacypipe.runbrick import run_brick\n",
    "from legacypipe.decam import DecamImage\n",
    "from legacypipe.survey import LegacySurveyData, wcs_for_brick\n",
    "\n",
    "import obiwan.priors as priors\n",
    "from obiwan.db_tools import getSrcsInBrick\n",
    "\n",
    "from astrometry.util.fits import fits_table, merge_tables\n",
    "from astrometry.util.ttime import Time"
   ]
  },
  {
   "cell_type": "code",
   "execution_count": 5,
   "metadata": {
    "collapsed": false
   },
   "outputs": [
    {
     "ename": "NameError",
     "evalue": "name 'kwargs' is not defined",
     "output_type": "error",
     "traceback": [
      "\u001b[0;31m\u001b[0m",
      "\u001b[0;31mNameError\u001b[0mTraceback (most recent call last)",
      "\u001b[0;32m<ipython-input-5-aa843a0750bc>\u001b[0m in \u001b[0;36m<module>\u001b[0;34m()\u001b[0m\n\u001b[0;32m----> 1\u001b[0;31m \u001b[0;32mfrom\u001b[0m \u001b[0mobiwan\u001b[0m\u001b[0;34m.\u001b[0m\u001b[0mkenobi\u001b[0m \u001b[0;32mimport\u001b[0m \u001b[0mget_parser\u001b[0m\u001b[0;34m,\u001b[0m\u001b[0mmain\u001b[0m\u001b[0;34m\u001b[0m\u001b[0m\n\u001b[0m\u001b[1;32m      2\u001b[0m \u001b[0;34m\u001b[0m\u001b[0m\n\u001b[1;32m      3\u001b[0m cmd_line= ['-n', '2', '--DR', '5', '-b', '1238p245,' \n\u001b[1;32m      4\u001b[0m            \u001b[0;34m'-o'\u001b[0m\u001b[0;34m,\u001b[0m \u001b[0;34m'elg'\u001b[0m\u001b[0;34m,\u001b[0m \u001b[0;34m'--add_sim_noise'\u001b[0m\u001b[0;34m,\u001b[0m\u001b[0;34m\u001b[0m\u001b[0m\n\u001b[1;32m      5\u001b[0m            '--zoom', '1550', '1650', '1550', '1650']\n",
      "\u001b[0;32m/global/cscratch1/sd/kaylanb/test/obiwan/py/obiwan/kenobi.py\u001b[0m in \u001b[0;36m<module>\u001b[0;34m()\u001b[0m\n\u001b[1;32m     42\u001b[0m \u001b[0;32mfrom\u001b[0m \u001b[0mlegacypipe\u001b[0m\u001b[0;34m.\u001b[0m\u001b[0msurvey\u001b[0m \u001b[0;32mimport\u001b[0m \u001b[0mLegacySurveyData\u001b[0m\u001b[0;34m,\u001b[0m \u001b[0mwcs_for_brick\u001b[0m\u001b[0;34m\u001b[0m\u001b[0m\n\u001b[1;32m     43\u001b[0m \u001b[0;34m\u001b[0m\u001b[0m\n\u001b[0;32m---> 44\u001b[0;31m \u001b[0;32mimport\u001b[0m \u001b[0mobiwan\u001b[0m\u001b[0;34m.\u001b[0m\u001b[0mpriors\u001b[0m \u001b[0;32mas\u001b[0m \u001b[0mpriors\u001b[0m\u001b[0;34m\u001b[0m\u001b[0m\n\u001b[0m\u001b[1;32m     45\u001b[0m \u001b[0;32mfrom\u001b[0m \u001b[0mobiwan\u001b[0m\u001b[0;34m.\u001b[0m\u001b[0mdb_tools\u001b[0m \u001b[0;32mimport\u001b[0m \u001b[0mgetSrcsInBrick\u001b[0m\u001b[0;34m\u001b[0m\u001b[0m\n\u001b[1;32m     46\u001b[0m \u001b[0;34m\u001b[0m\u001b[0m\n",
      "\u001b[0;32m/global/cscratch1/sd/kaylanb/test/obiwan/py/obiwan/priors.py\u001b[0m in \u001b[0;36m<module>\u001b[0;34m()\u001b[0m\n\u001b[1;32m    651\u001b[0m \u001b[0;31m#DR=2,savefig=False,alpha=1.,\\\u001b[0m\u001b[0;34m\u001b[0m\u001b[0;34m\u001b[0m\u001b[0m\n\u001b[1;32m    652\u001b[0m \u001b[0;31m#brick_primary=True,anymask=False,allmask=False,fracflux=False):\u001b[0m\u001b[0;34m\u001b[0m\u001b[0;34m\u001b[0m\u001b[0m\n\u001b[0;32m--> 653\u001b[0;31m \u001b[0;32mclass\u001b[0m \u001b[0mCommonInit\u001b[0m\u001b[0;34m(\u001b[0m\u001b[0mReadWrite\u001b[0m\u001b[0;34m)\u001b[0m\u001b[0;34m:\u001b[0m\u001b[0;34m\u001b[0m\u001b[0m\n\u001b[0m\u001b[1;32m    654\u001b[0m \t\"\"\"Base class for every STAR,ELG,LRG,QSO class\n\u001b[1;32m    655\u001b[0m \u001b[0;34m\u001b[0m\u001b[0m\n",
      "\u001b[0;32m/global/cscratch1/sd/kaylanb/test/obiwan/py/obiwan/priors.py\u001b[0m in \u001b[0;36mCommonInit\u001b[0;34m()\u001b[0m\n\u001b[1;32m    687\u001b[0m                 \u001b[0mself\u001b[0m\u001b[0;34m.\u001b[0m\u001b[0moutdir\u001b[0m\u001b[0;34m=\u001b[0m \u001b[0mkwargs\u001b[0m\u001b[0;34m.\u001b[0m\u001b[0mget\u001b[0m\u001b[0;34m(\u001b[0m\u001b[0;34m'outdir'\u001b[0m\u001b[0;34m,\u001b[0m\u001b[0;34m'./'\u001b[0m\u001b[0;34m)\u001b[0m\u001b[0;34m\u001b[0m\u001b[0m\n\u001b[1;32m    688\u001b[0m         \u001b[0;31m# Running from jupyter notebook?\u001b[0m\u001b[0;34m\u001b[0m\u001b[0;34m\u001b[0m\u001b[0m\n\u001b[0;32m--> 689\u001b[0;31m         \u001b[0mself\u001b[0m\u001b[0;34m.\u001b[0m\u001b[0mnb\u001b[0m\u001b[0;34m=\u001b[0m \u001b[0mkwargs\u001b[0m\u001b[0;34m.\u001b[0m\u001b[0mget\u001b[0m\u001b[0;34m(\u001b[0m\u001b[0;34m'nb'\u001b[0m\u001b[0;34m,\u001b[0m\u001b[0mFalse\u001b[0m\u001b[0;34m)\u001b[0m\u001b[0;34m\u001b[0m\u001b[0m\n\u001b[0m\u001b[1;32m    690\u001b[0m \u001b[0;34m\u001b[0m\u001b[0m\n\u001b[1;32m    691\u001b[0m         \u001b[0;32mdef\u001b[0m \u001b[0mimaging_cut\u001b[0m\u001b[0;34m(\u001b[0m\u001b[0mself\u001b[0m\u001b[0;34m,\u001b[0m\u001b[0mdata\u001b[0m\u001b[0;34m)\u001b[0m\u001b[0;34m:\u001b[0m\u001b[0;34m\u001b[0m\u001b[0m\n",
      "\u001b[0;31mNameError\u001b[0m: name 'kwargs' is not defined"
     ]
    }
   ],
   "source": [
    "from obiwan.kenobi import get_parser,main\n",
    "\n",
    "cmd_line= ['-n', '2', '--DR', '5', '-b', '1238p245,' \n",
    "           '-o', 'elg', '--add_sim_noise', \n",
    "           '--zoom', '1550', '1650', '1550', '1650']\n",
    "parser= get_parser()\n",
    "namesp= parser.parse_args(args=cmd_line)\n",
    "main(args)"
   ]
  }
 ],
 "metadata": {
  "anaconda-cloud": {},
  "kernelspec": {
   "display_name": "imaging py2.7",
   "language": "python",
   "name": "imaging-py2.7"
  },
  "language_info": {
   "codemirror_mode": {
    "name": "ipython",
    "version": 2
   },
   "file_extension": ".py",
   "mimetype": "text/x-python",
   "name": "python",
   "nbconvert_exporter": "python",
   "pygments_lexer": "ipython2",
   "version": "2.7.13"
  }
 },
 "nbformat": 4,
 "nbformat_minor": 0
}
