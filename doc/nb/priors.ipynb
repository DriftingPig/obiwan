{
 "cells": [
  {
   "cell_type": "markdown",
   "metadata": {},
   "source": [
    "Run: python obiwan/priors.py --outdir junk"
   ]
  },
  {
   "cell_type": "code",
   "execution_count": 1,
   "metadata": {
    "collapsed": true
   },
   "outputs": [],
   "source": [
    "%matplotlib inline\n",
    "%load_ext autoreload\n",
    "%autoreload 2"
   ]
  },
  {
   "cell_type": "code",
   "execution_count": 3,
   "metadata": {
    "collapsed": true
   },
   "outputs": [],
   "source": [
    "import numpy as np\n",
    "import matplotlib.pyplot as plt\n",
    "from matplotlib.patches import Ellipse\n",
    "from mpl_toolkits.axes_grid1 import make_axes_locatable\n",
    "import matplotlib as mpl\n",
    "from astropy.io import fits\n",
    "from astrometry.util.fits import fits_table, merge_tables\n",
    "import os\n",
    "import sys\n",
    "from glob import glob\n",
    "from scipy.optimize import newton\n",
    "from sklearn.neighbors import KernelDensity\n",
    "import pickle\n",
    "\n",
    "from sklearn.svm import SVC\n",
    "from sklearn.neighbors import KNeighborsClassifier\n",
    "\n",
    "from theValidator.catalogues import CatalogueFuncs,Matcher"
   ]
  },
  {
   "cell_type": "code",
   "execution_count": 3,
   "metadata": {
    "collapsed": false
   },
   "outputs": [
    {
     "ename": "NameError",
     "evalue": "name 'kwargs' is not defined",
     "output_type": "error",
     "traceback": [
      "\u001b[0;31m\u001b[0m",
      "\u001b[0;31mNameError\u001b[0mTraceback (most recent call last)",
      "\u001b[0;32m<ipython-input-3-2160fbce9901>\u001b[0m in \u001b[0;36m<module>\u001b[0;34m()\u001b[0m\n\u001b[0;32m----> 1\u001b[0;31m \u001b[0;32mfrom\u001b[0m \u001b[0mobiwan\u001b[0m\u001b[0;34m.\u001b[0m\u001b[0mpriors\u001b[0m \u001b[0;32mimport\u001b[0m \u001b[0mELG\u001b[0m\u001b[0;34m,\u001b[0m\u001b[0mLRG\u001b[0m\u001b[0;34m\u001b[0m\u001b[0m\n\u001b[0m",
      "\u001b[0;32m/global/cscratch1/sd/kaylanb/test/obiwan/py/obiwan/priors.py\u001b[0m in \u001b[0;36m<module>\u001b[0;34m()\u001b[0m\n\u001b[1;32m    651\u001b[0m \u001b[0;31m#DR=2,savefig=False,alpha=1.,\\\u001b[0m\u001b[0;34m\u001b[0m\u001b[0;34m\u001b[0m\u001b[0m\n\u001b[1;32m    652\u001b[0m \u001b[0;31m#brick_primary=True,anymask=False,allmask=False,fracflux=False):\u001b[0m\u001b[0;34m\u001b[0m\u001b[0;34m\u001b[0m\u001b[0m\n\u001b[0;32m--> 653\u001b[0;31m \u001b[0;32mclass\u001b[0m \u001b[0mCommonInit\u001b[0m\u001b[0;34m(\u001b[0m\u001b[0mReadWrite\u001b[0m\u001b[0;34m)\u001b[0m\u001b[0;34m:\u001b[0m\u001b[0;34m\u001b[0m\u001b[0m\n\u001b[0m\u001b[1;32m    654\u001b[0m \t\"\"\"Base class for every STAR,ELG,LRG,QSO class\n\u001b[1;32m    655\u001b[0m \u001b[0;34m\u001b[0m\u001b[0m\n",
      "\u001b[0;32m/global/cscratch1/sd/kaylanb/test/obiwan/py/obiwan/priors.py\u001b[0m in \u001b[0;36mCommonInit\u001b[0;34m()\u001b[0m\n\u001b[1;32m    687\u001b[0m                 \u001b[0mself\u001b[0m\u001b[0;34m.\u001b[0m\u001b[0moutdir\u001b[0m\u001b[0;34m=\u001b[0m \u001b[0mkwargs\u001b[0m\u001b[0;34m.\u001b[0m\u001b[0mget\u001b[0m\u001b[0;34m(\u001b[0m\u001b[0;34m'outdir'\u001b[0m\u001b[0;34m,\u001b[0m\u001b[0;34m'./'\u001b[0m\u001b[0;34m)\u001b[0m\u001b[0;34m\u001b[0m\u001b[0m\n\u001b[1;32m    688\u001b[0m         \u001b[0;31m# Running from jupyter notebook?\u001b[0m\u001b[0;34m\u001b[0m\u001b[0;34m\u001b[0m\u001b[0m\n\u001b[0;32m--> 689\u001b[0;31m         \u001b[0mself\u001b[0m\u001b[0;34m.\u001b[0m\u001b[0mnb\u001b[0m\u001b[0;34m=\u001b[0m \u001b[0mkwargs\u001b[0m\u001b[0;34m.\u001b[0m\u001b[0mget\u001b[0m\u001b[0;34m(\u001b[0m\u001b[0;34m'nb'\u001b[0m\u001b[0;34m,\u001b[0m\u001b[0mFalse\u001b[0m\u001b[0;34m)\u001b[0m\u001b[0;34m\u001b[0m\u001b[0m\n\u001b[0m\u001b[1;32m    690\u001b[0m \u001b[0;34m\u001b[0m\u001b[0m\n\u001b[1;32m    691\u001b[0m         \u001b[0;32mdef\u001b[0m \u001b[0mimaging_cut\u001b[0m\u001b[0;34m(\u001b[0m\u001b[0mself\u001b[0m\u001b[0;34m,\u001b[0m\u001b[0mdata\u001b[0m\u001b[0;34m)\u001b[0m\u001b[0;34m:\u001b[0m\u001b[0;34m\u001b[0m\u001b[0m\n",
      "\u001b[0;31mNameError\u001b[0m: name 'kwargs' is not defined"
     ]
    }
   ],
   "source": [
    "from obiwan.priors import ELG,LRG"
   ]
  },
  {
   "cell_type": "code",
   "execution_count": 13,
   "metadata": {
    "collapsed": true
   },
   "outputs": [],
   "source": [
    "kwargs= dict(savekde=True, loadkde= False, \n",
    "             savefig= True,\n",
    "             alpha= 0.25, DR=2, outdir='obiwan_nb',nb=True)"
   ]
  },
  {
   "cell_type": "code",
   "execution_count": 21,
   "metadata": {
    "collapsed": false
   },
   "outputs": [
    {
     "name": "stdout",
     "output_type": "stream",
     "text": [
      "('self.fracflux=', False, 'kwargs= ', {'loadkde': False, 'savefig': True, 'nb': True, 'savekde': True, 'rlimit': 24.4, 'alpha': 0.25, 'DR': 3, 'outdir': 'obiwan_nb'})\n",
      "('ELGs, self.rlimit= ', 24.4)\n",
      "dr3_deep2 21820\n",
      "dr3_deep2, after obiwan cut 11479\n",
      "dr3_deep2, after cut bad vals 9321\n",
      "Wrote obiwan_nb/tractor_ELG_dr3deep2_expdev_tractor_re.png\n",
      "Wrote obiwan_nb/tractor_ELG_dr3deep2_expdev_tractor_n.png\n",
      "size 9321 2523\n",
      "Wrote obiwan_nb/plot_2d_ELG_dr3deep2_tractor_re_zhelio.png\n",
      "Wrote obiwan_nb/plot_2d_ELG_dr3deep2_tractor_re_g_wdust.png\n",
      "Wrote obiwan_nb/plot_2d_ELG_dr3deep2_tractor_re_r_wdust.png\n",
      "Wrote obiwan_nb/plot_2d_ELG_dr3deep2_tractor_re_z_wdust.png\n",
      "Wrote obiwan_nb/plot_2d_ELG_dr3deep2_zhelio_g_wdust.png\n",
      "Wrote obiwan_nb/plot_2d_ELG_dr3deep2_zhelio_r_wdust.png\n",
      "Wrote obiwan_nb/plot_2d_ELG_dr3deep2_zhelio_z_wdust.png\n",
      "fit kde\n",
      "Wrote obiwan_nb/kde_2d_ELG_dr3deep2_rz_gr.png\n",
      "Wrote obiwan_nb/kde_2d_ELG_dr3deep2_tractor_re_gr.png\n",
      "Wrote obiwan_nb/kde_2d_ELG_dr3deep2_tractor_re_r_wdust.png\n",
      "Wrote obiwan_nb/kde_2d_ELG_dr3deep2_tractor_re_rz.png\n",
      "Wrote obiwan_nb/kde_2d_ELG_dr3deep2_zhelio_tractor_re.png\n",
      "Wrote obiwan_nb/kde_2d_ELG_dr3deep2_zhelio_gr.png\n",
      "Wrote obiwan_nb/kde_2d_ELG_dr3deep2_zhelio_r_wdust.png\n",
      "Wrote obiwan_nb/kde_2d_ELG_dr3deep2_zhelio_rz.png\n",
      "Wrote obiwan_nb/kde_in_FDR_Data_dr3deep2_ELG.png\n",
      "Wrote obiwan_nb/kde_in_FDR_KDE_dr3deep2_ELG.png\n",
      "Wrote obiwan_nb/elg-kde.pickle\n"
     ]
    }
   ],
   "source": [
    "kwargs.update(DR=3, rlimit=23.4+1.)\n",
    "elg= ELG(**kwargs)\n",
    "elg.fit_kde(use_acs=False)"
   ]
  },
  {
   "cell_type": "code",
   "execution_count": null,
   "metadata": {
    "collapsed": true
   },
   "outputs": [],
   "source": []
  }
 ],
 "metadata": {
  "kernelspec": {
   "display_name": "imaging py2.7",
   "language": "python",
   "name": "imaging-py2.7"
  },
  "language_info": {
   "codemirror_mode": {
    "name": "ipython",
    "version": 2
   },
   "file_extension": ".py",
   "mimetype": "text/x-python",
   "name": "python",
   "nbconvert_exporter": "python",
   "pygments_lexer": "ipython2",
   "version": "2.7.13"
  }
 },
 "nbformat": 4,
 "nbformat_minor": 0
}
